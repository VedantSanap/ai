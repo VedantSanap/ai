{
 "cells": [
  {
   "cell_type": "code",
   "execution_count": 3,
   "id": "7ff2b6cc",
   "metadata": {},
   "outputs": [
    {
     "name": "stdout",
     "output_type": "stream",
     "text": [
      "Edges in the Minimum Spanning Tree:\n",
      "0 -- 2 : 1\n",
      "0 -- 1 : 2\n",
      "1 -- 3 : 4\n",
      "2 -- 4 : 5\n"
     ]
    }
   ],
   "source": [
    "def kruskal(vertices, edges):\n",
    "    parent = list(range(vertices))\n",
    "    rank = [0] * vertices\n",
    "    result = []\n",
    "    edges.sort(key=lambda x: x[2])\n",
    "\n",
    "    def find(i):\n",
    "        return i if parent[i] == i else find(parent[i])\n",
    "\n",
    "    def union(x, y):\n",
    "        root_x, root_y = find(x), find(y)\n",
    "        if rank[root_x] < rank[root_y]:\n",
    "            parent[root_x] = root_y\n",
    "        elif rank[root_x] > rank[root_y]:\n",
    "            parent[root_y] = root_x\n",
    "        else:\n",
    "            parent[root_x] = root_y\n",
    "            rank[root_y] += 1\n",
    "\n",
    "    for u, v, w in edges:\n",
    "        if len(result) < vertices - 1 and find(u) != find(v):\n",
    "            result.append([u, v, w])\n",
    "            union(u, v)\n",
    "\n",
    "    return result\n",
    "\n",
    "num_vertices = 5\n",
    "graph_edges = [[0, 1, 2], [0, 2, 1], [1, 3, 4], [1, 2, 3], [2, 4, 5], [3, 4, 6]]\n",
    "\n",
    "mst = kruskal(num_vertices, graph_edges)\n",
    "print(\"Edges in the Minimum Spanning Tree:\")\n",
    "for u, v, weight in mst:\n",
    "    print(f\"{u} -- {v} : {weight}\")"
   ]
  },
  {
   "cell_type": "code",
   "execution_count": null,
   "id": "fdabb0f5",
   "metadata": {},
   "outputs": [],
   "source": []
  }
 ],
 "metadata": {
  "kernelspec": {
   "display_name": "Python 3 (ipykernel)",
   "language": "python",
   "name": "python3"
  },
  "language_info": {
   "codemirror_mode": {
    "name": "ipython",
    "version": 3
   },
   "file_extension": ".py",
   "mimetype": "text/x-python",
   "name": "python",
   "nbconvert_exporter": "python",
   "pygments_lexer": "ipython3",
   "version": "3.10.9"
  }
 },
 "nbformat": 4,
 "nbformat_minor": 5
}
