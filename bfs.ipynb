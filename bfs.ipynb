{
 "cells": [
  {
   "cell_type": "code",
   "execution_count": null,
   "id": "e94931b7",
   "metadata": {},
   "outputs": [],
   "source": [
    "def dfs(visited,graph,node):\n",
    "    if node not in visited:\n",
    "        print(node,end = \" \")\n",
    "        visited.add(node)\n",
    "        for neighbour in graph[node]:\n",
    "            dfs(visited, graph, neighbour)\n",
    "\n",
    "def bfs(visited,graph,node,queue):\n",
    "    visited.add(node)\n",
    "    queue.append(node)\n",
    "\n",
    "    while queue:\n",
    "        s = queue.pop(0)\n",
    "        print(s,end = \" \")\n",
    "        for neighbour in graph[s]:\n",
    "            if neighbour not in visited:\n",
    "                visited.add(neighbour)\n",
    "                queue.append(neighbour)\n",
    "\n",
    "def main():\n",
    "    visited1 = set()\n",
    "    visited2 = set() \n",
    "    queue = []       \n",
    "    n = int(input(\"Enter number of nodes : \"))\n",
    "    graph = dict()\n",
    "\n",
    "    for i in range(1,n+1):\n",
    "        edges = int(input(\"Enter number of edges for node {} : \".format(i)))\n",
    "        graph[i] = list()\n",
    "        for j in range(1,edges+1):\n",
    "            node = int(input(\"Enter edge {} for node {} : \".format(j,i)))\n",
    "            graph[i].append(node)\n",
    "\n",
    "    print(\"The following is DFS\")\n",
    "    dfs(visited1, graph, 1)\n",
    "    print()\n",
    "    print(\"The following is BFS\")\n",
    "    bfs(visited2, graph, 1, queue)\n",
    "   \n",
    "if __name__==\"__main__\":\n",
    "    main()"
   ]
  },
  {
   "cell_type": "code",
   "execution_count": null,
   "id": "9649fcbf",
   "metadata": {},
   "outputs": [],
   "source": []
  }
 ],
 "metadata": {
  "kernelspec": {
   "display_name": "Python 3 (ipykernel)",
   "language": "python",
   "name": "python3"
  },
  "language_info": {
   "codemirror_mode": {
    "name": "ipython",
    "version": 3
   },
   "file_extension": ".py",
   "mimetype": "text/x-python",
   "name": "python",
   "nbconvert_exporter": "python",
   "pygments_lexer": "ipython3",
   "version": "3.10.9"
  }
 },
 "nbformat": 4,
 "nbformat_minor": 5
}
