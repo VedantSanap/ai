{
 "cells": [
  {
   "cell_type": "code",
   "execution_count": 1,
   "id": "05f27aeb",
   "metadata": {},
   "outputs": [
    {
     "name": "stdout",
     "output_type": "stream",
     "text": [
      "Edge \tWeight\n",
      "0 - 1 \t 1\n",
      "0 - 2 \t 3\n",
      "4 - 3 \t 4\n",
      "2 - 4 \t 2\n"
     ]
    }
   ],
   "source": [
    "import sys\n",
    " \n",
    " \n",
    "class Graph():\n",
    "    def __init__(self, vertices):\n",
    "        self.V = vertices\n",
    "        self.graph = [[0 for column in range(vertices)]\n",
    "                      for row in range(vertices)]\n",
    " \n",
    "    def printMST(self, parent):\n",
    "        print(\"Edge \\tWeight\")\n",
    "        for i in range(1, self.V):\n",
    "            print(parent[i], \"-\", i, \"\\t\", self.graph[i][parent[i]])\n",
    " \n",
    "    def minKey(self, key, mstSet):\n",
    " \n",
    "        min = sys.maxsize\n",
    " \n",
    "        for v in range(self.V):\n",
    "            if key[v] < min and mstSet[v] == False:\n",
    "                min = key[v]\n",
    "                min_index = v\n",
    " \n",
    "        return min_index\n",
    " \n",
    "    def primMST(self):\n",
    " \n",
    "      \n",
    "        key = [sys.maxsize] * self.V\n",
    "        parent = [None] * self.V  \n",
    "        key[0] = 0\n",
    "        mstSet = [False] * self.V\n",
    " \n",
    "        parent[0] = -1 \n",
    " \n",
    "        for cout in range(self.V):\n",
    "            u = self.minKey(key, mstSet)\n",
    "            mstSet[u] = True\n",
    " \n",
    "            for v in range(self.V):\n",
    "\n",
    "                if self.graph[u][v] > 0 and mstSet[v] == False \\\n",
    "                and key[v] > self.graph[u][v]:\n",
    "                    key[v] = self.graph[u][v]\n",
    "                    parent[v] = u\n",
    " \n",
    "        self.printMST(parent)\n",
    " \n",
    " \n",
    "# Driver's code\n",
    "if __name__ == '__main__':\n",
    "    g = Graph(5)\n",
    "    g.graph = G = [ [0, 1, 3, 0, 0],\n",
    "                    [1, 0, 6, 5, 0],\n",
    "                    [3, 6, 0, 0, 2],\n",
    "                    [0, 5, 0, 0, 4],\n",
    "                    [0, 0, 2, 4, 0]]\n",
    " \n",
    "    g.primMST()"
   ]
  },
  {
   "cell_type": "code",
   "execution_count": null,
   "id": "9f953867",
   "metadata": {},
   "outputs": [],
   "source": []
  }
 ],
 "metadata": {
  "kernelspec": {
   "display_name": "Python 3 (ipykernel)",
   "language": "python",
   "name": "python3"
  },
  "language_info": {
   "codemirror_mode": {
    "name": "ipython",
    "version": 3
   },
   "file_extension": ".py",
   "mimetype": "text/x-python",
   "name": "python",
   "nbconvert_exporter": "python",
   "pygments_lexer": "ipython3",
   "version": "3.10.9"
  }
 },
 "nbformat": 4,
 "nbformat_minor": 5
}
