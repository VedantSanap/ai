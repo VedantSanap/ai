{
 "cells": [
  {
   "cell_type": "code",
   "execution_count": 1,
   "id": "49b767ff",
   "metadata": {},
   "outputs": [
    {
     "name": "stdout",
     "output_type": "stream",
     "text": [
      "enter the list of numbers:1,4,6,7,9,2,3,10,3,5\n",
      "sorted list: [1, 2, 3, 3, 4, 5, 6, 7, 9, 10]\n",
      "unique sorted list: [1, 2, 3, 4, 5, 6, 7, 9, 10]\n"
     ]
    }
   ],
   "source": [
    "def selectionSort(arr):\n",
    "    for i in range(len(arr)):\n",
    "        for j in range(i+1,len(arr)):\n",
    "            if arr[i] > arr[j]:\n",
    "                arr[i],arr[j]= arr[j],arr[i]\n",
    "    return arr\n",
    "\n",
    "input_str = input(\"enter the list of numbers:\")\n",
    "input_list = [int(num) for num in input_str.split(',')]\n",
    "\n",
    "sorted_list = selectionSort(input_list)\n",
    "unique_list= []\n",
    "for num in sorted_list:\n",
    "    if num not in unique_list:\n",
    "        unique_list.append(num)\n",
    "print(\"sorted list:\",sorted_list)\n",
    "print(\"unique sorted list:\",unique_list)"
   ]
  },
  {
   "cell_type": "code",
   "execution_count": null,
   "id": "4e261037",
   "metadata": {},
   "outputs": [],
   "source": []
  }
 ],
 "metadata": {
  "kernelspec": {
   "display_name": "Python 3 (ipykernel)",
   "language": "python",
   "name": "python3"
  },
  "language_info": {
   "codemirror_mode": {
    "name": "ipython",
    "version": 3
   },
   "file_extension": ".py",
   "mimetype": "text/x-python",
   "name": "python",
   "nbconvert_exporter": "python",
   "pygments_lexer": "ipython3",
   "version": "3.10.9"
  }
 },
 "nbformat": 4,
 "nbformat_minor": 5
}
