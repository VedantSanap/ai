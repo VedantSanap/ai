{
 "cells": [
  {
   "cell_type": "code",
   "execution_count": 1,
   "id": "98f03642",
   "metadata": {},
   "outputs": [
    {
     "name": "stdout",
     "output_type": "stream",
     "text": [
      "Enter the value of N: 4\n",
      "Solution 1\n",
      "0 0 1 0 \n",
      "1 0 0 0 \n",
      "0 0 0 1 \n",
      "0 1 0 0 \n",
      "\n",
      "Solution 2\n",
      "0 1 0 0 \n",
      "0 0 0 1 \n",
      "1 0 0 0 \n",
      "0 0 1 0 \n",
      "\n",
      "Total solutions: 2\n"
     ]
    }
   ],
   "source": [
    "N = int(input(\"Enter the value of N: \"))\n",
    "\n",
    "def printSolution(board):\n",
    "    for i in range(N):\n",
    "        for j in range(N):\n",
    "            print(board[i][j], end=\" \")\n",
    "        print()\n",
    "\n",
    "def isSafe(board, row, col):\n",
    "    \n",
    "    for i in range(col):\n",
    "        if board[row][i] == 1:\n",
    "            return False\n",
    "    \n",
    "   \n",
    "    i = row\n",
    "    j = col\n",
    "    while i >= 0 and j >= 0:\n",
    "        if board[i][j] == 1:\n",
    "            return False\n",
    "        i -= 1\n",
    "        j -= 1\n",
    "    \n",
    "  \n",
    "    i = row\n",
    "    j = col\n",
    "    while i < N and j >= 0:\n",
    "        if board[i][j] == 1:\n",
    "            return False\n",
    "        i += 1\n",
    "        j -= 1\n",
    "    \n",
    "    return True\n",
    "\n",
    "def solveNQueensUtil(board, col, solutionCount):\n",
    "    if col >= N:\n",
    "        solutionCount[0] += 1\n",
    "        print(\"Solution\", solutionCount[0])\n",
    "        printSolution(board)\n",
    "        print()\n",
    "        return\n",
    "    \n",
    "    for i in range(N):\n",
    "        if isSafe(board, i, col):\n",
    "            board[i][col] = 1\n",
    "            \n",
    "            solveNQueensUtil(board, col + 1, solutionCount)\n",
    "            \n",
    "            board[i][col] = 0\n",
    "\n",
    "def solveNQueens():\n",
    "    board = [[0 for _ in range(N)] for _ in range(N)]\n",
    "    \n",
    "    solutionCount = [0]\n",
    "    solveNQueensUtil(board, 0, solutionCount)\n",
    "    \n",
    "    print(\"Total solutions:\", solutionCount[0])\n",
    "\n",
    "solveNQueens()\n"
   ]
  },
  {
   "cell_type": "code",
   "execution_count": null,
   "id": "3c63c05b",
   "metadata": {},
   "outputs": [],
   "source": []
  },
  {
   "cell_type": "code",
   "execution_count": null,
   "id": "9fb17aa3",
   "metadata": {},
   "outputs": [],
   "source": []
  }
 ],
 "metadata": {
  "kernelspec": {
   "display_name": "Python 3 (ipykernel)",
   "language": "python",
   "name": "python3"
  },
  "language_info": {
   "codemirror_mode": {
    "name": "ipython",
    "version": 3
   },
   "file_extension": ".py",
   "mimetype": "text/x-python",
   "name": "python",
   "nbconvert_exporter": "python",
   "pygments_lexer": "ipython3",
   "version": "3.10.9"
  }
 },
 "nbformat": 4,
 "nbformat_minor": 5
}
