{
 "cells": [
  {
   "cell_type": "code",
   "execution_count": null,
   "id": "46ca2ca4",
   "metadata": {},
   "outputs": [
    {
     "name": "stdout",
     "output_type": "stream",
     "text": [
      "Greetings!,Welcome to ShopEasy!\n"
     ]
    }
   ],
   "source": [
    "import random\n",
    "\n",
    "def get_greeting():\n",
    "    greetings = [\"Hello!,Welcome to ShopEasy! \", \"Welcome! to ShopEasy!\", \"Greetings!,Welcome to ShopEasy!\"]\n",
    "    return random.choice(greetings)\n",
    "\n",
    "\n",
    "def generate_response(user_input):\n",
    "    \n",
    "    if \"hii\" in user_input:\n",
    "        return \"Hello , Hey there\"\n",
    "    elif \"product\" in user_input:\n",
    "        return \"We have a wide range of products available. How can I assist you in finding a specific product?\"\n",
    "    elif \"price\" in user_input:\n",
    "        return \"Our prices vary depending on the product. Could you please provide more details so that I can assist you better?\"\n",
    "    elif \"delivery\" in user_input:\n",
    "        return \"We offer various delivery options. To provide accurate information, could you please provide your location?\"\n",
    "    elif \"booking\" in user_input:\n",
    "        return \"Sure! I can help you with that. May I know the destination and travel date?\"\n",
    "    elif \"account\" in user_input:\n",
    "        return \"If you need assistance with your account, please visit our website and go to the account section.\"\n",
    "    elif \"help\" in user_input:\n",
    "        return \"I'm here to help! Please let me know how I can assist you.\"\n",
    "    elif \"bye\" or \"quit\" in user_input:\n",
    "        return \"Bye! Take care. Have a great day ahead!\"\n",
    "    else:\n",
    "        return \"I'm sorry, but I couldn't understand your request. Could you please rephrase or provide more information?\"\n",
    "    \n",
    "\n",
    "def main():\n",
    "    print(get_greeting())\n",
    "    while True:\n",
    "        user_input = input(\"User: \")\n",
    "        response = generate_response(user_input.lower())\n",
    "        print(\"ShopEasy: \",response)\n",
    "\n",
    "        if \"bye\" in user_input.lower() or \"quit\" in user_input.lower():\n",
    "            print(\"Thank you for using our chatbot.\")\n",
    "            print(\"Exiting the program...\")\n",
    "            break\n",
    "       \n",
    "\n",
    "\n",
    "if __name__ == \"__main__\":\n",
    "    main()"
   ]
  },
  {
   "cell_type": "code",
   "execution_count": null,
   "id": "f00077df",
   "metadata": {},
   "outputs": [],
   "source": []
  },
  {
   "cell_type": "code",
   "execution_count": null,
   "id": "3808dfc1",
   "metadata": {},
   "outputs": [],
   "source": []
  }
 ],
 "metadata": {
  "kernelspec": {
   "display_name": "Python 3 (ipykernel)",
   "language": "python",
   "name": "python3"
  },
  "language_info": {
   "codemirror_mode": {
    "name": "ipython",
    "version": 3
   },
   "file_extension": ".py",
   "mimetype": "text/x-python",
   "name": "python",
   "nbconvert_exporter": "python",
   "pygments_lexer": "ipython3",
   "version": "3.10.9"
  }
 },
 "nbformat": 4,
 "nbformat_minor": 5
}
