{
 "cells": [
  {
   "cell_type": "code",
   "execution_count": 3,
   "id": "07933a6a",
   "metadata": {},
   "outputs": [
    {
     "name": "stdout",
     "output_type": "stream",
     "text": [
      "Vertex \tDistance from Source\n",
      "0 \t 0\n",
      "1 \t 1\n",
      "2 \t 4\n",
      "3 \t 3\n",
      "4 \t 7\n",
      "5 \t 9\n",
      "edges included: \n",
      "0 - 1 \t\n",
      "0 - 2 \t\n",
      "1 - 3 \t\n",
      "3 - 4 \t\n",
      "3 - 5 \t\n"
     ]
    }
   ],
   "source": [
    "import sys\n",
    "  \n",
    "  \n",
    "class Graph():\n",
    "  \n",
    "    def __init__(self, vertices):\n",
    "        self.V = vertices\n",
    "        self.graph = [[0 for column in range(vertices)]\n",
    "                      for row in range(vertices)]\n",
    "  \n",
    "    def printSolution(self, dist, parent):\n",
    "        print(\"Vertex \\tDistance from Source\")\n",
    "        for node in range(self.V):\n",
    "            print(node, \"\\t\", dist[node])\n",
    "            \n",
    "        print(\"edges included: \")\n",
    "        for i in range(1,self.V):\n",
    "            print(parent[i], \"-\", i, \"\\t\") \n",
    "            \n",
    "    def minDistance(self, dist, sptSet):\n",
    "  \n",
    "        \n",
    "        min = sys.maxsize\n",
    "  \n",
    "        \n",
    "        for u in range(self.V):\n",
    "            if dist[u] < min and sptSet[u] == False:\n",
    "                min = dist[u]\n",
    "                min_index = u\n",
    "  \n",
    "        return min_index\n",
    "  \n",
    " \n",
    "    def dijkstra(self, src):\n",
    "  \n",
    "        dist = [sys.maxsize] * self.V\n",
    "        dist[src] = 0\n",
    "        sptSet = [False] * self.V\n",
    "        parent = [None] * self.V\n",
    "  \n",
    "        for cout in range(self.V):\n",
    "  \n",
    "          \n",
    "            x = self.minDistance(dist, sptSet)\n",
    "  \n",
    "            sptSet[x] = True\n",
    "  \n",
    "            for y in range(self.V):\n",
    "                if self.graph[x][y] > 0 and sptSet[y] == False and \\\n",
    "                        dist[y] > dist[x] + self.graph[x][y]:\n",
    "                    dist[y] = dist[x] + self.graph[x][y]\n",
    "                    parent[y] = x\n",
    "  \n",
    "        self.printSolution(dist,parent)\n",
    "  \n",
    "\n",
    "if __name__ == \"__main__\":\n",
    "    g = Graph(6)\n",
    "    g.graph=[ [0, 1, 4, 0, 0, 0],\n",
    "              [1, 0, 4, 2, 7, 0],\n",
    "              [4, 4, 0, 3, 5, 0],\n",
    "              [0, 2, 3, 0, 4, 6],\n",
    "              [0, 7, 5, 4, 0, 7],\n",
    "              [0, 0, 0, 6, 7, 0] ];\n",
    "    g.dijkstra(0)"
   ]
  },
  {
   "cell_type": "code",
   "execution_count": null,
   "id": "43ea6601",
   "metadata": {},
   "outputs": [],
   "source": []
  },
  {
   "cell_type": "code",
   "execution_count": null,
   "id": "fe835252",
   "metadata": {},
   "outputs": [],
   "source": []
  }
 ],
 "metadata": {
  "kernelspec": {
   "display_name": "Python 3 (ipykernel)",
   "language": "python",
   "name": "python3"
  },
  "language_info": {
   "codemirror_mode": {
    "name": "ipython",
    "version": 3
   },
   "file_extension": ".py",
   "mimetype": "text/x-python",
   "name": "python",
   "nbconvert_exporter": "python",
   "pygments_lexer": "ipython3",
   "version": "3.10.9"
  }
 },
 "nbformat": 4,
 "nbformat_minor": 5
}
